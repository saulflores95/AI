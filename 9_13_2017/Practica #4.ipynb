{
 "cells": [
  {
   "cell_type": "code",
   "execution_count": 188,
   "metadata": {},
   "outputs": [],
   "source": [
    "import numpy as np\n",
    "import matplotlib.pyplot as plt"
   ]
  },
  {
   "cell_type": "code",
   "execution_count": 189,
   "metadata": {
    "collapsed": true
   },
   "outputs": [],
   "source": [
    "w10 = None\n",
    "w21 = None\n",
    "z = None\n",
    "z2= None\n",
    "a1 = None\n",
    "a2 = None\n",
    "error = None"
   ]
  },
  {
   "cell_type": "code",
   "execution_count": 199,
   "metadata": {},
   "outputs": [
    {
     "name": "stdout",
     "output_type": "stream",
     "text": [
      "[[ 1.  1.  1.  1.]]\n"
     ]
    }
   ],
   "source": [
    "inputs = np.array([\n",
    "    [4.6, 6.0],\n",
    "    [6.1, 3.9],\n",
    "    [2.9, 4.2],\n",
    "    [7.0, 5.5]\n",
    "])\n",
    "\n",
    "targets = np.array([\n",
    "    [3.52, 4.02],\n",
    "    [5.43, 6.23],\n",
    "    [4.95, 5.76],\n",
    "    [4.70, 4.28]\n",
    "])\n",
    "\n",
    "w10 = np.random.uniform(low=0.0, high=1.0, size=(3, 2))\n",
    "w20 = np.random.uniform(low=0.0, high=1.0, size=(2, 3))\n",
    "\n",
    "def OneGenerator (row, col):\n",
    "    return np.ones(row, col)\n",
    "\n",
    "fourOnes = np.ones((1, 4))\n",
    "print(fourOnes)\n",
    "threeOnes = np.ones((3, 1))\n",
    "twoOnes = np.ones((2,1))"
   ]
  },
  {
   "cell_type": "code",
   "execution_count": 191,
   "metadata": {},
   "outputs": [],
   "source": [
    "inputs = np.transpose(inputs)\n",
    "inputs = np.vstack((inputs, fourOnes))\n",
    "\n",
    "w10 = np.hstack((w10, threeOnes))\n",
    "\n",
    "z = np.dot(w10, inputs)"
   ]
  },
  {
   "cell_type": "code",
   "execution_count": 192,
   "metadata": {},
   "outputs": [
    {
     "name": "stdout",
     "output_type": "stream",
     "text": [
      "[[ 5.41612853  6.04628834  3.86741295  6.99538148]\n",
      " [ 3.94544907  3.78419196  2.97233267  4.47829917]\n",
      " [ 4.19866514  3.21061354  3.22553699  4.04978045]]\n"
     ]
    }
   ],
   "source": [
    "print(z)"
   ]
  },
  {
   "cell_type": "code",
   "execution_count": 193,
   "metadata": {},
   "outputs": [],
   "source": [
    "def sigmoid(z):\n",
    "    s = 1.0 / (1.0 + np.exp(-1.0 * z))\n",
    "    return s\n",
    "\n",
    "a1 = sigmoid(z)"
   ]
  },
  {
   "cell_type": "code",
   "execution_count": 194,
   "metadata": {},
   "outputs": [],
   "source": [
    "a1 = np.vstack((a1, fourOnes))\n",
    "w20 = np.hstack((w20, twoOnes))\n",
    "z2 = np.dot(w20, a1)"
   ]
  },
  {
   "cell_type": "code",
   "execution_count": 195,
   "metadata": {},
   "outputs": [],
   "source": [
    "a2 = sigmoid(z2)"
   ]
  },
  {
   "cell_type": "code",
   "execution_count": 196,
   "metadata": {},
   "outputs": [
    {
     "name": "stdout",
     "output_type": "stream",
     "text": [
      "[[ 2.63740578  4.54901961  4.0698139   3.81737068]\n",
      " [ 3.05451374  5.26528183  4.79644105  3.31428795]]\n"
     ]
    }
   ],
   "source": [
    "targets = np.transpose(targets)\n",
    "error = np.subtract(targets, a2)\n",
    "print(error)"
   ]
  },
  {
   "cell_type": "code",
   "execution_count": null,
   "metadata": {
    "collapsed": true
   },
   "outputs": [],
   "source": []
  }
 ],
 "metadata": {
  "kernelspec": {
   "display_name": "Python 3",
   "language": "python",
   "name": "python3"
  }
 },
 "nbformat": 4,
 "nbformat_minor": 2
}
