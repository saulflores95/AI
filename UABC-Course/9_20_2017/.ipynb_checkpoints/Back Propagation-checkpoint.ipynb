{
 "cells": [
  {
   "cell_type": "code",
   "execution_count": 1,
   "metadata": {
    "collapsed": true
   },
   "outputs": [],
   "source": [
    "#Propacacion hacia delante\n",
    "import numpy as np\n",
    "import matplotlib.pyplot as plt"
   ]
  },
  {
   "cell_type": "code",
   "execution_count": 2,
   "metadata": {
    "collapsed": true
   },
   "outputs": [],
   "source": [
    "#defined sigmoid\n",
    "def sigmoid(z):\n",
    "    s = 1.0 / (1.0 + np.exp(-1.0 * z))\n",
    "    return s\n",
    "#derivitate of sigmoid\n",
    "def sigmoid_derivative(z):\n",
    "    ans = sigmoid(z) * (1 - sigmoid(z))\n",
    "    return ans\n",
    "# AW + b\n",
    "def z(inputs, weights, onesOne, onesTwo):\n",
    "    #adds a vector(bia) to our inputs\n",
    "    inputs = np.vstack((inputs, onesOne))\n",
    "    #adds a vector (bias) to our weights\n",
    "    weights = np.hstack((weights, onesTwo))\n",
    "    #Z y es obtained\n",
    "    z = np.dot(weights, inputs)\n",
    "    return z"
   ]
  },
  {
   "cell_type": "code",
   "execution_count": 3,
   "metadata": {
    "collapsed": true
   },
   "outputs": [],
   "source": [
    "#a0 of our Neurol Netowrk\n",
    "inputs = np.array([\n",
    "    [4.7, 6.0],\n",
    "    [6.1, 3.9],\n",
    "    [2.9, 4.2],\n",
    "    [7.0, 5.5]\n",
    "])\n",
    "#Our target matrix\n",
    "targets = np.array([\n",
    "    [3.52, 4.02],\n",
    "    [5.43, 6.23],\n",
    "    [4.95, 5.76],\n",
    "    [4.70, 4.28]\n",
    "])"
   ]
  },
  {
   "cell_type": "code",
   "execution_count": 4,
   "metadata": {},
   "outputs": [
    {
     "name": "stdout",
     "output_type": "stream",
     "text": [
      "[[ 0.97407451  0.12467496  0.66788886]\n",
      " [ 0.4941151   0.54415956  0.97948402]]\n"
     ]
    }
   ],
   "source": [
    "#Randomly Generatoed matrix 3x2\n",
    "w10 = np.random.uniform(low=0.0, high=1.0, size=(3, 2))\n",
    "#Randomly Generatoed matrix of 2x3\n",
    "w21 = np.random.uniform(low=0.0, high=1.0, size=(2, 3))\n",
    "#Declaration of ones that are going to be appended to the matrixes\n",
    "print(w21)"
   ]
  },
  {
   "cell_type": "code",
   "execution_count": 5,
   "metadata": {
    "collapsed": true
   },
   "outputs": [],
   "source": [
    "#Declaration of ones that are going to be appended to the matrixes\n",
    "fourOnes = np.ones((1, 4))\n",
    "threeOnes = np.ones((3, 1))\n",
    "twoOnes = np.ones((2,1))"
   ]
  },
  {
   "cell_type": "code",
   "execution_count": 6,
   "metadata": {
    "collapsed": true
   },
   "outputs": [],
   "source": [
    "#transposing inputs to be able to append vector of ojnes\n",
    "inputs = np.transpose(inputs)\n",
    "#callin z funciton to get our z one\n",
    "z1 = z(inputs, w10, fourOnes, threeOnes)"
   ]
  },
  {
   "cell_type": "code",
   "execution_count": 7,
   "metadata": {
    "collapsed": true
   },
   "outputs": [],
   "source": [
    "#se optiene a1 ingresando la z a la funciona de activacion\n",
    "a1 = sigmoid(z1)\n",
    "#se obtiene z2\n",
    "z2 = z(a1, w21, fourOnes, twoOnes)"
   ]
  },
  {
   "cell_type": "code",
   "execution_count": 8,
   "metadata": {
    "collapsed": true
   },
   "outputs": [],
   "source": [
    "#se optiene a2 ingresando la z2 a la funciona de activacion d\n",
    "a2 = sigmoid(z2)"
   ]
  },
  {
   "cell_type": "code",
   "execution_count": 9,
   "metadata": {},
   "outputs": [
    {
     "name": "stdout",
     "output_type": "stream",
     "text": [
      "Error [[ 2.58068595  4.49108422  4.0134031   3.76008641]\n",
      " [ 3.06848691  5.27917205  4.81137799  3.32792076]]\n"
     ]
    }
   ],
   "source": [
    "targets = np.transpose(targets)\n",
    "#Using the subtract function from numpy we subtract the matrix\n",
    "error = np.subtract(targets, a2)\n",
    "print(\"Error\", error)\n"
   ]
  },
  {
   "cell_type": "code",
   "execution_count": 10,
   "metadata": {},
   "outputs": [
    {
     "name": "stdout",
     "output_type": "stream",
     "text": [
      "Loss [[  6.65993999  20.16983744  16.10740444  14.13824977]\n",
      " [  9.41561194  27.8696575   23.14935812  11.0750566 ]]\n"
     ]
    }
   ],
   "source": [
    "#obtaine de loss of the function\n",
    "loss = np.power(error, 2)\n",
    "print('Loss', loss)\n"
   ]
  },
  {
   "cell_type": "code",
   "execution_count": null,
   "metadata": {
    "collapsed": true
   },
   "outputs": [],
   "source": []
  }
 ],
 "metadata": {
  "kernelspec": {
   "display_name": "Python 3",
   "language": "python",
   "name": "python3"
  },
  "language_info": {
   "codemirror_mode": {
    "name": "ipython",
    "version": 3
   },
   "file_extension": ".py",
   "mimetype": "text/x-python",
   "name": "python",
   "nbconvert_exporter": "python",
   "pygments_lexer": "ipython3",
   "version": "3.6.2"
  }
 },
 "nbformat": 4,
 "nbformat_minor": 2
}
