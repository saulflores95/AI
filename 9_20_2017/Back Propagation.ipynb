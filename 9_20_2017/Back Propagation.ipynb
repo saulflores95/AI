{
 "cells": [
  {
   "cell_type": "code",
   "execution_count": 1,
   "metadata": {
    "collapsed": true
   },
   "outputs": [],
   "source": [
    "#Propacacion hacia delante\n",
    "import numpy as np\n",
    "import matplotlib.pyplot as plt"
   ]
  },
  {
   "cell_type": "code",
   "execution_count": 2,
   "metadata": {
    "collapsed": true
   },
   "outputs": [],
   "source": [
    "#defined sigmoid\n",
    "def sigmoid(z):\n",
    "    s = 1.0 / (1.0 + np.exp(-1.0 * z))\n",
    "    return s\n",
    "#derivitate of sigmoid\n",
    "def sigmoid_derivative(z):\n",
    "    ans = sigmoid(z) * (1 - sigmoid(z))\n",
    "    return ans\n",
    "# AW + b\n",
    "def z(inputs, weights, onesOne, onesTwo):\n",
    "    #adds a vector(bia) to our inputs\n",
    "    inputs = np.vstack((inputs, onesOne))\n",
    "    #adds a vector (bias) to our weights\n",
    "    weights = np.hstack((weights, onesTwo))\n",
    "    #Z y es obtained\n",
    "    z = np.dot(weights, inputs)\n",
    "    return z"
   ]
  },
  {
   "cell_type": "code",
   "execution_count": 3,
   "metadata": {
    "collapsed": true
   },
   "outputs": [],
   "source": [
    "#a0 of our Neurol Netowrk\n",
    "inputs = np.array([\n",
    "    [4.7, 6.0],\n",
    "    [6.1, 3.9],\n",
    "    [2.9, 4.2],\n",
    "    [7.0, 5.5]\n",
    "])\n",
    "#Our target matrix\n",
    "targets = np.array([\n",
    "    [3.52, 4.02],\n",
    "    [5.43, 6.23],\n",
    "    [4.95, 5.76],\n",
    "    [4.70, 4.28]\n",
    "])"
   ]
  },
  {
   "cell_type": "code",
   "execution_count": 4,
   "metadata": {},
   "outputs": [
    {
     "name": "stdout",
     "output_type": "stream",
     "text": [
      "[[ 0.96138092  0.51236509  0.4850129 ]\n",
      " [ 0.1468871   0.88928305  0.85812612]]\n"
     ]
    }
   ],
   "source": [
    "#Randomly Generatoed matrix 3x2\n",
    "w10 = np.random.uniform(low=0.0, high=1.0, size=(3, 2))\n",
    "#Randomly Generatoed matrix of 2x3\n",
    "w21 = np.random.uniform(low=0.0, high=1.0, size=(2, 3))\n",
    "#Declaration of ones that are going to be appended to the matrixes\n",
    "print(w21)"
   ]
  },
  {
   "cell_type": "code",
   "execution_count": 5,
   "metadata": {
    "collapsed": true
   },
   "outputs": [],
   "source": [
    "#Declaration of ones that are going to be appended to the matrixes\n",
    "fourOnes = np.ones((1, 4))\n",
    "threeOnes = np.ones((3, 1))\n",
    "twoOnes = np.ones((2,1))"
   ]
  },
  {
   "cell_type": "code",
   "execution_count": 6,
   "metadata": {
    "collapsed": true
   },
   "outputs": [],
   "source": [
    "#transposing inputs to be able to append vector of ojnes\n",
    "inputs = np.transpose(inputs)\n",
    "#callin z funciton to get our z one\n",
    "z1 = z(inputs, w10, fourOnes, threeOnes)"
   ]
  },
  {
   "cell_type": "code",
   "execution_count": 7,
   "metadata": {
    "collapsed": true
   },
   "outputs": [],
   "source": [
    "#se optiene a1 ingresando la z a la funciona de activacion\n",
    "a1 = sigmoid(z1)\n",
    "#se obtiene z2\n",
    "z2 = z(a1, w21, fourOnes, twoOnes)"
   ]
  },
  {
   "cell_type": "code",
   "execution_count": 8,
   "metadata": {
    "collapsed": true
   },
   "outputs": [],
   "source": [
    "#se optiene a2 ingresando la z2 a la funciona de activacion d\n",
    "a2 = sigmoid(z2)"
   ]
  },
  {
   "cell_type": "code",
   "execution_count": 9,
   "metadata": {},
   "outputs": [
    {
     "name": "stdout",
     "output_type": "stream",
     "text": [
      "Error [[ 2.57306878  4.4830828   4.00422119  3.75242984]\n",
      " [ 3.07949623  5.2895291   4.82165207  3.33827088]]\n"
     ]
    }
   ],
   "source": [
    "targets = np.transpose(targets)\n",
    "#Using the subtract function from numpy we subtract the matrix\n",
    "error = np.subtract(targets, a2)\n",
    "print(\"Error\", error)\n"
   ]
  },
  {
   "cell_type": "code",
   "execution_count": 10,
   "metadata": {},
   "outputs": [
    {
     "name": "stdout",
     "output_type": "stream",
     "text": [
      "Loss [[  6.62068295  20.09803139  16.03378731  14.08072969]\n",
      " [  9.48329702  27.97911814  23.24832871  11.14405247]]\n"
     ]
    }
   ],
   "source": [
    "#obtaine de loss of the function\n",
    "loss = np.power(error, 2)\n",
    "print('Loss', loss)\n"
   ]
  },
  {
   "cell_type": "code",
   "execution_count": 11,
   "metadata": {
    "collapsed": true
   },
   "outputs": [],
   "source": [
    "#define derivate function for sigmoid\n",
    "f1 = sigmoid_derivative(z2)\n",
    "#A1 is added a vertically an array of four ones\n",
    "a1Aum = np.vstack((a1, fourOnes))"
   ]
  },
  {
   "cell_type": "code",
   "execution_count": 12,
   "metadata": {},
   "outputs": [
    {
     "name": "stdout",
     "output_type": "stream",
     "text": [
      "[[ 1.42504046  1.4249329   1.40579151  1.43627342]\n",
      " [ 1.77205908  1.77177249  1.74664676  1.78680771]]\n"
     ]
    }
   ],
   "source": [
    "#define delta K and multiply the error with de derivative function\n",
    "deltaK = np.multiply(error, f1)\n",
    "#we finish the equation by using dot function to multiply the current \n",
    "#delta K with a1Aum\n",
    "deltaK = 2 * np.dot(deltaK, a1Aum)\n",
    "#print delta K\n",
    "print(deltaK)"
   ]
  },
  {
   "cell_type": "code",
   "execution_count": 13,
   "metadata": {},
   "outputs": [
    {
     "name": "stdout",
     "output_type": "stream",
     "text": [
      "[[ 4.7  6.1  2.9  7. ]\n",
      " [ 6.   3.9  4.2  5.5]\n",
      " [ 1.   1.   1.   1. ]]\n"
     ]
    }
   ],
   "source": [
    "#Define variables needed for delta J\n",
    "f2 = sigmoid_derivative(z1)\n",
    "#Added ones vertically to inputs\n",
    "inputsAum = np.vstack((inputs, fourOnes))\n",
    "print(inputsAum)"
   ]
  },
  {
   "cell_type": "code",
   "execution_count": 14,
   "metadata": {},
   "outputs": [
    {
     "name": "stdout",
     "output_type": "stream",
     "text": [
      "[[  6.46079699e-03   8.61827017e-03   2.01666596e-03]\n",
      " [  5.84668913e+00   5.67815561e+00   1.16875772e+00]\n",
      " [  2.21613088e-01   1.94296521e-01   4.48924074e-02]]\n"
     ]
    }
   ],
   "source": [
    "deltaJ = np.dot(w21.T, deltaK)\n",
    "deltaJ = np.multiply(deltaJ, f2)\n",
    "deltaJ = np.dot(deltaJ, inputsAum.T)\n",
    "print(deltaJ)\n"
   ]
  },
  {
   "cell_type": "code",
   "execution_count": null,
   "metadata": {
    "collapsed": true
   },
   "outputs": [],
   "source": []
  },
  {
   "cell_type": "code",
   "execution_count": null,
   "metadata": {
    "collapsed": true
   },
   "outputs": [],
   "source": []
  },
  {
   "cell_type": "code",
   "execution_count": null,
   "metadata": {
    "collapsed": true
   },
   "outputs": [],
   "source": []
  },
  {
   "cell_type": "code",
   "execution_count": null,
   "metadata": {
    "collapsed": true
   },
   "outputs": [],
   "source": []
  },
  {
   "cell_type": "code",
   "execution_count": null,
   "metadata": {
    "collapsed": true
   },
   "outputs": [],
   "source": []
  }
 ],
 "metadata": {
  "kernelspec": {
   "display_name": "Python 3",
   "language": "python",
   "name": "python3"
  },
  "language_info": {
   "codemirror_mode": {
    "name": "ipython",
    "version": 3
   },
   "file_extension": ".py",
   "mimetype": "text/x-python",
   "name": "python",
   "nbconvert_exporter": "python",
   "pygments_lexer": "ipython3",
   "version": "3.6.2"
  }
 },
 "nbformat": 4,
 "nbformat_minor": 2
}
